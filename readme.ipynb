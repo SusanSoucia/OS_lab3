{
 "cells": [
  {
   "cell_type": "markdown",
   "id": "f4ea6ac7",
   "metadata": {},
   "source": [
    "# 重庆大学操作系统实验三\n",
    "## 线程的调度：优先级调度\n",
    "### 步骤一：\n",
    "在\"struct tcb\"中增加线程的静态优先级nice<br>\n",
    "一定要加在kstack字段后  signature字段前<br>\n"
   ]
  },
  {
   "cell_type": "code",
   "execution_count": null,
   "id": "4cecce04",
   "metadata": {
    "vscode": {
     "languageId": "plaintext"
    }
   },
   "outputs": [],
   "source": [
    "//文件位置 /kernel/kernel.h\n",
    "\n",
    "struct tcb {\n",
    "    /*hardcoded*/\n",
    "    uint32_t    kstack;      /*saved top of the kernel stack for this task*/\n",
    "\n",
    "    int         tid;         /* task id */\n",
    "    int         state;       /* -1:waiting,0:running,1:ready,2:zombie */\n",
    "#define TASK_STATE_WAITING  -1\n",
    "#define TASK_STATE_READY     1\n",
    "#define TASK_STATE_ZOMBIE    2\n",
    "\n",
    "    int         timeslice;   //时间片\n",
    "#define TASK_TIMESLICE_DEFAULT 4\n",
    "\n",
    "    int         code_exit;   //保存该线程的退出代码\n",
    "    struct wait_queue *wq_exit; //等待该线程退出的队列\n",
    "\n",
    "    struct tcb  *next;\n",
    "    struct fpu   fpu;        //数学协处理器的寄存器\n",
    "#define NZERO 20\n",
    "    int nice;                //实验3/step1\n",
    "    fixedpt estcpu;\n",
    "    fixedpt priority; //实验3/1\n",
    "    \n",
    "    uint32_t     signature;  //必须是最后一个字段\n",
    "#define TASK_SIGNATURE 0x20160201\n",
    "};"
   ]
  },
  {
   "cell_type": "markdown",
   "id": "7e8f555f",
   "metadata": {},
   "source": [
    "在函数sys_task_create中初始化nice=0<br>\n",
    "nice 是整数，取值范围[-NZERO，NZERO-1]，值越小优先级越高"
   ]
  },
  {
   "cell_type": "code",
   "execution_count": null,
   "id": "2e80080b",
   "metadata": {
    "vscode": {
     "languageId": "plaintext"
    }
   },
   "outputs": [],
   "source": [
    "//文件位置 /kernel/task.c\n",
    "\n",
    "struct tcb *sys_task_create(void *tos,\n",
    "                            void (*func)(void *pv), void *pv)\n",
    "{\n",
    "    static int tid = 0;\n",
    "    struct tcb *new;\n",
    "    char *p;\n",
    "    uint32_t flags;\n",
    "    uint32_t ustack=(uint32_t)tos;\n",
    "\n",
    "    if(ustack & 3)\n",
    "        return NULL;\n",
    "\n",
    "    p = (char *)kmemalign(PAGE_SIZE, PAGE_SIZE);\n",
    "    if(p == NULL)\n",
    "        return NULL;\n",
    "\n",
    "    new = (struct tcb *)p;\n",
    "\n",
    "    memset(new, 0, sizeof(struct tcb));\n",
    "\n",
    "    new->kstack = (uint32_t)(p+PAGE_SIZE);\n",
    "    new->tid = tid++;\n",
    "    new->state = TASK_STATE_READY;\n",
    "    new->timeslice = TASK_TIMESLICE_DEFAULT;\n",
    "    new->wq_exit = NULL;\n",
    "    new->next = NULL;\n",
    "    new->estcpu = 0;\n",
    "    new->nice = 0;         //实验3/1\n",
    "    new->signature = TASK_SIGNATURE;\n",
    "\n",
    "    /*XXX - should be elsewhere*/\n",
    "    new->fpu.cwd = 0x37f;\n",
    "    new->fpu.twd = 0xffff;\n",
    "\n",
    "    INIT_TASK_CONTEXT(ustack, new->kstack, func, pv);\n",
    "\n",
    "    save_flags_cli(flags);\n",
    "    add_task(new);\n",
    "    restore_flags(flags);\n",
    "\n",
    "    return new;\n",
    "}"
   ]
  },
  {
   "cell_type": "markdown",
   "id": "f1db8cec",
   "metadata": {},
   "source": [
    "### 步骤二\n",
    "增加系统调用\n",
    "int priotiry(int tid)<br>\n",
    "    成功返回线程tid的（nice+NZERO）,失败返回-1<br>\n",
    "int setpriority（int tid,int prio）<br>\n",
    "    把线程的tid的nice设为(prio-NZERO)<br>\n",
    "    prio必须在[0，2*NZERO-1]<br>\n",
    "    成功返回0，失败返回-1\n"
   ]
  },
  {
   "cell_type": "markdown",
   "id": "7cc27ae0",
   "metadata": {},
   "source": [
    "\n",
    "### 步骤三\n",
    "在struct tcb中再增加两个属性<br>\n",
    "estcpu：表示线程最近使用了多少cpu时间<br>\n",
    "<br>待填充<br>\n",
    "priority：表示线程的动态优先级\n"
   ]
  },
  {
   "cell_type": "markdown",
   "id": "cd59592b",
   "metadata": {},
   "source": [
    "### 步骤四：增加一个全局变量\n",
    "g_load_avg：表示系统的平均负荷<br>\n",
    "初值为0<br>\n",
    "每秒更新一次<br>\n",
    "这里公式\n"
   ]
  },
  {
   "cell_type": "markdown",
   "id": "78e775d5",
   "metadata": {},
   "source": [
    "### 步骤五：计算属性"
   ]
  },
  {
   "cell_type": "markdown",
   "id": "f5365dbd",
   "metadata": {},
   "source": [
    "### 步骤六：修改schedule函数，实现优先级调度算法"
   ]
  }
 ],
 "metadata": {
  "language_info": {
   "name": "python"
  }
 },
 "nbformat": 4,
 "nbformat_minor": 5
}
